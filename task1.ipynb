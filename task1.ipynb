{
  "nbformat": 4,
  "nbformat_minor": 0,
  "metadata": {
    "colab": {
      "provenance": [],
      "authorship_tag": "ABX9TyMlBx5FrAMymzHPEpM2dg1u",
      "include_colab_link": true
    },
    "kernelspec": {
      "name": "python3",
      "display_name": "Python 3"
    },
    "language_info": {
      "name": "python"
    }
  },
  "cells": [
    {
      "cell_type": "markdown",
      "metadata": {
        "id": "view-in-github",
        "colab_type": "text"
      },
      "source": [
        "<a href=\"https://colab.research.google.com/github/udayasathwika06/Task1_elevatelabs/blob/main/task1.ipynb\" target=\"_parent\"><img src=\"https://colab.research.google.com/assets/colab-badge.svg\" alt=\"Open In Colab\"/></a>"
      ]
    },
    {
      "cell_type": "code",
      "execution_count": 2,
      "metadata": {
        "id": "iTCKqYM1ITYq",
        "colab": {
          "base_uri": "https://localhost:8080/"
        },
        "outputId": "8dfadafc-fc32-4ef7-a2fb-0b7eea6f83c7"
      },
      "outputs": [
        {
          "output_type": "stream",
          "name": "stdout",
          "text": [
            "Missing values before cleaning:\n",
            " show_id            0\n",
            "type               0\n",
            "title              1\n",
            "director        1883\n",
            "cast             495\n",
            "country          663\n",
            "date_added         1\n",
            "release_year       1\n",
            "rating             1\n",
            "duration           2\n",
            "listed_in          1\n",
            "description        1\n",
            "dtype: int64\n",
            "\n",
            "Cleaned DataFrame info:\n",
            "<class 'pandas.core.frame.DataFrame'>\n",
            "RangeIndex: 5398 entries, 0 to 5397\n",
            "Data columns (total 12 columns):\n",
            " #   Column        Non-Null Count  Dtype \n",
            "---  ------        --------------  ----- \n",
            " 0   show_id       5398 non-null   object\n",
            " 1   type          5398 non-null   object\n",
            " 2   title         5397 non-null   object\n",
            " 3   director      3515 non-null   object\n",
            " 4   cast          4903 non-null   object\n",
            " 5   country       4735 non-null   object\n",
            " 6   date_added    5397 non-null   object\n",
            " 7   release_year  5397 non-null   Int64 \n",
            " 8   rating        5397 non-null   object\n",
            " 9   duration      5396 non-null   object\n",
            " 10  listed_in     5397 non-null   object\n",
            " 11  description   5397 non-null   object\n",
            "dtypes: Int64(1), object(11)\n",
            "memory usage: 511.5+ KB\n",
            "None\n",
            "\n",
            "Missing values after cleaning:\n",
            " show_id            0\n",
            "type               0\n",
            "title              1\n",
            "director        1883\n",
            "cast             495\n",
            "country          663\n",
            "date_added         1\n",
            "release_year       1\n",
            "rating             1\n",
            "duration           2\n",
            "listed_in          1\n",
            "description        1\n",
            "dtype: int64\n"
          ]
        },
        {
          "output_type": "stream",
          "name": "stderr",
          "text": [
            "<ipython-input-2-e9441dea8ea6>:24: FutureWarning: Setting an item of incompatible dtype is deprecated and will raise in a future error of pandas. Value '<IntegerArray>\n",
            "[2020, 2021, 2021, 2021, 2021, 2021, 2021, 1993, 2021, 2021,\n",
            " ...\n",
            " 2016, 2011, 2014, 1966, 2012, 2010, 2018, 2016, 1971, <NA>]\n",
            "Length: 5398, dtype: Int64' has dtype incompatible with float64, please explicitly cast to a compatible dtype first.\n",
            "  df_cleaned.loc[:, 'release_year'] = pd.to_numeric(df_cleaned['release_year'], errors='coerce').astype('Int64')\n"
          ]
        }
      ],
      "source": [
        "import pandas as pd\n",
        "\n",
        "# Load the dataset\n",
        "file_path = \"/content/netflix_titles_modified.csv\"\n",
        "df = pd.read_csv(file_path)\n",
        "\n",
        "# 1. Identify and handle missing values\n",
        "missing_values = df.isnull().sum()\n",
        "print(\"Missing values before cleaning:\\n\", missing_values)\n",
        "\n",
        "# 2. Remove duplicate rows and reset index\n",
        "df_cleaned = df.drop_duplicates().copy()  # Use .copy() to avoid SettingWithCopyWarning\n",
        "\n",
        "# 3. Standardize text values (e.g., country names)\n",
        "df_cleaned.loc[:, 'country'] = df_cleaned['country'].str.strip().str.lower()\n",
        "\n",
        "# 4. Convert date formats to a consistent type\n",
        "df_cleaned.loc[:, 'date_added'] = pd.to_datetime(df_cleaned['date_added'], errors='coerce')\n",
        "\n",
        "# 5. Rename column headers to be clean and uniform\n",
        "df_cleaned.columns = df_cleaned.columns.str.strip().str.lower().str.replace(' ', '_')\n",
        "\n",
        "# 6. Check and fix data types\n",
        "df_cleaned.loc[:, 'release_year'] = pd.to_numeric(df_cleaned['release_year'], errors='coerce').astype('Int64')\n",
        "\n",
        "# Display data info and missing values after cleaning\n",
        "print(\"\\nCleaned DataFrame info:\")\n",
        "print(df_cleaned.info())\n",
        "\n",
        "print(\"\\nMissing values after cleaning:\\n\", df_cleaned.isnull().sum())\n",
        "\n",
        "# Optionally: Save the cleaned DataFrame to a new CSV file\n",
        "# df_cleaned.to_csv(\"import pandas as pd"
      ]
    }
  ]
}
{
  "nbformat": 4,
  "nbformat_minor": 0,
  "metadata": {
    "colab": {
      "provenance": [],
      "authorship_tag": "ABX9TyMlBx5FrAMymzHPEpM2dg1u",
      "include_colab_link": true
    },
    "kernelspec": {
      "name": "python3",
      "display_name": "Python 3"
    },
    "language_info": {
      "name": "python"
    }
  },
  "cells": [
    {
      "cell_type": "markdown",
      "metadata": {
        "id": "view-in-github",
        "colab_type": "text"
      },
      "source": [
        "<a href=\"https://colab.research.google.com/github/udayasathwika06/Task1_elevatelabs/blob/main/task1.ipynb\" target=\"_parent\"><img src=\"https://colab.research.google.com/assets/colab-badge.svg\" alt=\"Open In Colab\"/></a>"
      ]
    },
    {
      "cell_type": "code",
      "execution_count": 3,
      "metadata": {
        "id": "iTCKqYM1ITYq",
        "colab": {
          "base_uri": "https://localhost:8080/"
        },
        "outputId": "0f304434-9462-4e23-f29f-893eed5d1189"
      },
      "outputs": [
        {
          "output_type": "stream",
          "name": "stdout",
          "text": [
            "Missing values before cleaning:\n",
            " show_id            0\n",
            "type               0\n",
            "title              1\n",
            "director        2635\n",
            "cast             826\n",
            "country          831\n",
            "date_added        10\n",
            "release_year       0\n",
            "rating             4\n",
            "duration           4\n",
            "listed_in          0\n",
            "description        0\n",
            "dtype: int64\n",
            "\n",
            "Cleaned DataFrame info:\n",
            "<class 'pandas.core.frame.DataFrame'>\n",
            "Index: 8807 entries, 0 to 8806\n",
            "Data columns (total 12 columns):\n",
            " #   Column        Non-Null Count  Dtype \n",
            "---  ------        --------------  ----- \n",
            " 0   show_id       8807 non-null   object\n",
            " 1   type          8807 non-null   object\n",
            " 2   title         8806 non-null   object\n",
            " 3   director      6173 non-null   object\n",
            " 4   cast          7982 non-null   object\n",
            " 5   country       7976 non-null   object\n",
            " 6   date_added    8709 non-null   object\n",
            " 7   release_year  8807 non-null   int64 \n",
            " 8   rating        8803 non-null   object\n",
            " 9   duration      8803 non-null   object\n",
            " 10  listed_in     8807 non-null   object\n",
            " 11  description   8807 non-null   object\n",
            "dtypes: int64(1), object(11)\n",
            "memory usage: 894.5+ KB\n",
            "None\n",
            "\n",
            "Missing values after cleaning:\n",
            " show_id            0\n",
            "type               0\n",
            "title              1\n",
            "director        2634\n",
            "cast             825\n",
            "country          831\n",
            "date_added        98\n",
            "release_year       0\n",
            "rating             4\n",
            "duration           4\n",
            "listed_in          0\n",
            "description        0\n",
            "dtype: int64\n"
          ]
        }
      ],
      "source": [
        "import pandas as pd\n",
        "\n",
        "# Load the dataset\n",
        "file_path = \"/content/netflix_titles_modified.csv\"\n",
        "df = pd.read_csv(file_path)\n",
        "\n",
        "# 1. Identify and handle missing values\n",
        "missing_values = df.isnull().sum()\n",
        "print(\"Missing values before cleaning:\\n\", missing_values)\n",
        "\n",
        "# 2. Remove duplicate rows and reset index\n",
        "df_cleaned = df.drop_duplicates().copy()  # Use .copy() to avoid SettingWithCopyWarning\n",
        "\n",
        "# 3. Standardize text values (e.g., country names)\n",
        "df_cleaned.loc[:, 'country'] = df_cleaned['country'].str.strip().str.lower()\n",
        "\n",
        "# 4. Convert date formats to a consistent type\n",
        "df_cleaned.loc[:, 'date_added'] = pd.to_datetime(df_cleaned['date_added'], errors='coerce')\n",
        "\n",
        "# 5. Rename column headers to be clean and uniform\n",
        "df_cleaned.columns = df_cleaned.columns.str.strip().str.lower().str.replace(' ', '_')\n",
        "\n",
        "# 6. Check and fix data types\n",
        "df_cleaned.loc[:, 'release_year'] = pd.to_numeric(df_cleaned['release_year'], errors='coerce').astype('Int64')\n",
        "\n",
        "# Display data info and missing values after cleaning\n",
        "print(\"\\nCleaned DataFrame info:\")\n",
        "print(df_cleaned.info())\n",
        "\n",
        "print(\"\\nMissing values after cleaning:\\n\", df_cleaned.isnull().sum())\n",
        "\n",
        "# Optionally: Save the cleaned DataFrame to a new CSV file\n",
        "# df_cleaned.to_csv(\"import pandas as pd"
      ]
    }
  ]
}